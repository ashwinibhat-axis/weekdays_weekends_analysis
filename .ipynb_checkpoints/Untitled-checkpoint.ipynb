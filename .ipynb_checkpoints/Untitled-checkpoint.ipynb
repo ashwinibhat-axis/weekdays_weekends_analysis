{
 "cells": [
  {
   "cell_type": "code",
   "execution_count": 7,
   "metadata": {
    "collapsed": false
   },
   "outputs": [],
   "source": [
    "from collections import defaultdict\n",
    "\n",
    "import numpy as np\n",
    "from scipy.stats import norm\n",
    "\n",
    "from bokeh.plotting import show, figure\n",
    "from bokeh.models import ColumnDataSource, HoverTool\n",
    "from bokeh.palettes import Viridis6\n",
    "\n",
    "RT_x = np.linspace(118, 123, num=50)\n",
    "\n",
    "mass_spec = defaultdict(list)\n",
    "for scale, mz in [(1.0, 83), (0.9, 55), (0.6, 98), (0.4, 43), (0.2, 39), (0.12, 29)]:\n",
    "    mass_spec[\"RT\"].append(RT_x)\n",
    "    mass_spec[\"RT_intensity\"].append(norm(loc=120.4).pdf(RT_x) * scale)\n",
    "    mass_spec['MZ_tip'].append(mz)\n",
    "    mass_spec['Intensity_tip'].append(scale)\n",
    "mass_spec['color'] = Viridis6\n",
    "\n",
    "source = ColumnDataSource(mass_spec)\n",
    "\n",
    "p = figure(plot_height=400)\n",
    "p.multi_line(xs='RT', ys='RT_intensity', legend=\"Intensity_tip\",\n",
    "             line_width=5, line_color='color', line_alpha=0.6,\n",
    "             hover_line_color='color', hover_line_alpha=1.0,\n",
    "             source=source)\n",
    "\n",
    "p.add_tools(HoverTool(show_arrow=False, line_policy='next', tooltips=[\n",
    "    ('MZ', '@MZ_tip'),\n",
    "    ('Rel Intensity', '@Intensity_tip')\n",
    "]))\n",
    "\n",
    "show(p)"
   ]
  },
  {
   "cell_type": "code",
   "execution_count": null,
   "metadata": {
    "collapsed": true
   },
   "outputs": [],
   "source": []
  }
 ],
 "metadata": {
  "kernelspec": {
   "display_name": "Python 2",
   "language": "python",
   "name": "python2"
  },
  "language_info": {
   "codemirror_mode": {
    "name": "ipython",
    "version": 2
   },
   "file_extension": ".py",
   "mimetype": "text/x-python",
   "name": "python",
   "nbconvert_exporter": "python",
   "pygments_lexer": "ipython2",
   "version": "2.7.13"
  }
 },
 "nbformat": 4,
 "nbformat_minor": 2
}
