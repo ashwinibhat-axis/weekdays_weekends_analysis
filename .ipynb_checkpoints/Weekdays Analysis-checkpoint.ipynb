{
 "cells": [
  {
   "cell_type": "code",
   "execution_count": null,
   "metadata": {
    "collapsed": false
   },
   "outputs": [],
   "source": [
    "import pandas as pd\n",
    "import numpy as np"
   ]
  },
  {
   "cell_type": "code",
   "execution_count": null,
   "metadata": {
    "collapsed": false
   },
   "outputs": [],
   "source": [
    "DataFrame = pd.read_excel('C:/Users/Ashwini/Desktop/weekdays_weekend_analysis/Results/DataSet.xlsx')\n",
    "DataFrame"
   ]
  },
  {
   "cell_type": "code",
   "execution_count": null,
   "metadata": {
    "collapsed": false
   },
   "outputs": [],
   "source": [
    "FilteredDF = DataFrame.filter(['Property_id','Stay_date','Booking_status','Room_name','Room_details','Room_rate','Channel'], axis=1)\n",
    "FinalDataFrame=FilteredDF\n",
    "FinalDataFrame.head()"
   ]
  },
  {
   "cell_type": "code",
   "execution_count": null,
   "metadata": {
    "collapsed": false
   },
   "outputs": [],
   "source": [
    "FinalDataFrame['Stay_date'] = pd.to_datetime(FinalDataFrame['Stay_date'])"
   ]
  },
  {
   "cell_type": "code",
   "execution_count": null,
   "metadata": {
    "collapsed": true
   },
   "outputs": [],
   "source": [
    "FinalDataFrame['Day']=FinalDataFrame['Stay_date'].dt.weekday_name"
   ]
  },
  {
   "cell_type": "code",
   "execution_count": null,
   "metadata": {
    "collapsed": false
   },
   "outputs": [],
   "source": [
    "FinalDataFrame"
   ]
  },
  {
   "cell_type": "code",
   "execution_count": null,
   "metadata": {
    "collapsed": true
   },
   "outputs": [],
   "source": [
    "FinalDataFrame1= FinalDataFrame[(FinalDataFrame.Day != 'Saturday') & (FinalDataFrame.Day != 'Sunday')]"
   ]
  },
  {
   "cell_type": "code",
   "execution_count": null,
   "metadata": {
    "collapsed": false
   },
   "outputs": [],
   "source": [
    "FinalDataFrame2 = FinalDataFrame1[(FinalDataFrame1.Booking_status == 'COMPLETED') | (FinalDataFrame1.Booking_status == 'CONFIRMED')]\n",
    "FinalDataFrame2"
   ]
  },
  {
   "cell_type": "code",
   "execution_count": null,
   "metadata": {
    "collapsed": false
   },
   "outputs": [],
   "source": [
    "FinalDataFrame3 = FinalDataFrame2[(FinalDataFrame2.Stay_date >= '2015-01-01') & (FinalDataFrame2.Stay_date <= '2015-12-31')]\n",
    "FinalDataFrame3.head()"
   ]
  },
  {
   "cell_type": "code",
   "execution_count": null,
   "metadata": {
    "collapsed": false
   },
   "outputs": [],
   "source": [
    "FinalDataFrame3 =FinalDataFrame3 .reset_index()\n",
    "FinalDataFrame3.head()"
   ]
  },
  {
   "cell_type": "code",
   "execution_count": null,
   "metadata": {
    "collapsed": false,
    "scrolled": true
   },
   "outputs": [],
   "source": [
    "del FinalDataFrame3['index']\n",
    "FinalDataFrame3.head()"
   ]
  },
  {
   "cell_type": "code",
   "execution_count": null,
   "metadata": {
    "collapsed": false
   },
   "outputs": [],
   "source": [
    "len(FinalDataFrame3)"
   ]
  },
  {
   "cell_type": "code",
   "execution_count": null,
   "metadata": {
    "collapsed": true
   },
   "outputs": [],
   "source": [
    "FinalDataFrame4 = FinalDataFrame3.drop_duplicates()"
   ]
  },
  {
   "cell_type": "code",
   "execution_count": null,
   "metadata": {
    "collapsed": false
   },
   "outputs": [],
   "source": [
    "len(FinalDataFrame4)"
   ]
  },
  {
   "cell_type": "code",
   "execution_count": null,
   "metadata": {
    "collapsed": false
   },
   "outputs": [],
   "source": [
    "FinalDataFrame4['room_count'] = FinalDataFrame4.groupby(['Property_id','Stay_date'])['Room_rate'].transform('count')\n",
    "\n",
    "FinalDataFrame5 = FinalDataFrame4.drop_duplicates()\n",
    "FinalDataFrame5"
   ]
  },
  {
   "cell_type": "code",
   "execution_count": null,
   "metadata": {
    "collapsed": false
   },
   "outputs": [],
   "source": [
    "FinalDataFrame5['totalRevenue'] = FinalDataFrame5.groupby(['Property_id','Stay_date'])['Room_rate'].transform('sum')\n",
    "res6 = FinalDataFrame5.drop_duplicates()\n",
    "res6"
   ]
  },
  {
   "cell_type": "code",
   "execution_count": null,
   "metadata": {
    "collapsed": false
   },
   "outputs": [],
   "source": [
    "res6['ADR'] = res6.apply(lambda res6: (res6['totalRevenue'] / res6['room_count'] ) , axis=1)\n",
    "res6"
   ]
  },
  {
   "cell_type": "code",
   "execution_count": null,
   "metadata": {
    "collapsed": true
   },
   "outputs": [],
   "source": [
    "del res6['Room_name']"
   ]
  },
  {
   "cell_type": "code",
   "execution_count": null,
   "metadata": {
    "collapsed": true
   },
   "outputs": [],
   "source": [
    "del res6['Room_details']"
   ]
  },
  {
   "cell_type": "code",
   "execution_count": null,
   "metadata": {
    "collapsed": true
   },
   "outputs": [],
   "source": [
    "del res6['Room_rate']"
   ]
  },
  {
   "cell_type": "code",
   "execution_count": null,
   "metadata": {
    "collapsed": false
   },
   "outputs": [],
   "source": [
    "res6"
   ]
  },
  {
   "cell_type": "code",
   "execution_count": null,
   "metadata": {
    "collapsed": false
   },
   "outputs": [],
   "source": [
    "res6"
   ]
  },
  {
   "cell_type": "code",
   "execution_count": null,
   "metadata": {
    "collapsed": true
   },
   "outputs": [],
   "source": [
    "\n",
    "res6['directChannelCount'] = res6.groupby(['Channel','Stay_date'])['Channel'].transform(lambda res6: res6[res6.str.contains('DIRECT')].count())"
   ]
  },
  {
   "cell_type": "code",
   "execution_count": null,
   "metadata": {
    "collapsed": false
   },
   "outputs": [],
   "source": [
    "res6"
   ]
  },
  {
   "cell_type": "code",
   "execution_count": null,
   "metadata": {
    "collapsed": true
   },
   "outputs": [],
   "source": [
    "res6['travelAgentsChannelCount'] = res6.groupby(['Channel','Stay_date'])['Channel'].transform(lambda res6: res6[res6.str.contains('TRAVEL AGENTS')].count())"
   ]
  },
  {
   "cell_type": "code",
   "execution_count": null,
   "metadata": {
    "collapsed": false
   },
   "outputs": [],
   "source": [
    "res6"
   ]
  },
  {
   "cell_type": "code",
   "execution_count": null,
   "metadata": {
    "collapsed": true
   },
   "outputs": [],
   "source": [
    "res6['corporatesChannelCount'] = res6.groupby(['Channel','Stay_date'])['Channel'].transform(lambda res6: res6[res6.str.contains('CORPORATES')].count())"
   ]
  },
  {
   "cell_type": "code",
   "execution_count": null,
   "metadata": {
    "collapsed": false
   },
   "outputs": [],
   "source": [
    "res6"
   ]
  },
  {
   "cell_type": "code",
   "execution_count": null,
   "metadata": {
    "collapsed": false
   },
   "outputs": [],
   "source": [
    "res6['OTAChannelCount'] = res6.groupby(['Channel','Stay_date'])['Channel'].transform(lambda res6: res6[res6.str.contains('OTA')].count())\n",
    "res6"
   ]
  },
  {
   "cell_type": "code",
   "execution_count": null,
   "metadata": {
    "collapsed": false
   },
   "outputs": [],
   "source": [
    "del res6['Booking_status']\n",
    "res6"
   ]
  },
  {
   "cell_type": "code",
   "execution_count": null,
   "metadata": {
    "collapsed": false
   },
   "outputs": [],
   "source": [
    "property_id_bb = res6[(res6.Property_id == 'BB')].reset_index()\n",
    "del property_id_bb['index']\n",
    "property_id_bb\n",
    "\n",
    "#df1=df.set_index('Property_id')"
   ]
  },
  {
   "cell_type": "code",
   "execution_count": null,
   "metadata": {
    "collapsed": false
   },
   "outputs": [],
   "source": [
    "property_id_bb1=property_id_bb.set_index('Property_id')\n",
    "property_id_bb1\n",
    "property_id_bb2=property_id_bb1.sort(['Stay_date'], ascending=[True])\n",
    "property_id_bb2"
   ]
  },
  {
   "cell_type": "code",
   "execution_count": null,
   "metadata": {
    "collapsed": false
   },
   "outputs": [],
   "source": [
    "from bokeh.io import output_notebook\n",
    "output_notebook()\n",
    "from bokeh.io import show\n",
    "from bokeh.plotting import figure\n",
    "p=figure(x_axis_type='datetime')\n",
    "from bokeh.models import ColumnDataSource\n",
    "source= ColumnDataSource(dict(\n",
    "    x=property_id_bb2.loc['BB'].Stay_date,\n",
    "    y=property_id_bb2.loc['BB'].totalRevenue,\n",
    "    Day=property_id_bb2.loc['BB'].Day,\n",
    "    date=[i.strftime(\"%Y-%m-%d\") for i in property_id_bb2['Stay_date']]\n",
    "    ))\n",
    "#date=[x.strftime(\"%Y-%m-%d\") for x in test['Stay_date']]\n",
    "PLOT_OPTS=dict(\n",
    "     x_axis_type='datetime',\n",
    "   )\n",
    "\n",
    "from bokeh.models import HoverTool\n",
    "from bokeh.models import DatetimeTickFormatter\n",
    "hover= HoverTool(tooltips=[('Stay_date','@date'),('totalRevenue','@y{1.11}'),('Day','@Day')])\n",
    "#hover= HoverTool(tooltips='@Day' )\n",
    "#hover.tooltips = [('ADR',' $x'),('Stay_date',' $Total'),('Day','@Day')]\n",
    "\n",
    "p=figure(title='Stay_date Vs totalRevenue for property_id BB',tools=[hover], **PLOT_OPTS)\n",
    "p.left[0].formatter.use_scientific = False\n",
    "p.line(x='x', y='y',source=source) \n",
    "show(p)"
   ]
  },
  {
   "cell_type": "code",
   "execution_count": null,
   "metadata": {
    "collapsed": false
   },
   "outputs": [],
   "source": [
    "from bokeh.io import output_notebook\n",
    "output_notebook()\n",
    "from bokeh.io import show\n",
    "from bokeh.plotting import figure\n",
    "p=figure(x_axis_type='datetime')\n",
    "from bokeh.models import ColumnDataSource\n",
    "source= ColumnDataSource(dict(\n",
    "    x=property_id_bb2.loc['BB'].Stay_date,\n",
    "    y=property_id_bb2.loc['BB'].ADR,\n",
    "    Day=property_id_bb2.loc['BB'].Day,\n",
    "    date=[i.strftime(\"%Y-%m-%d\") for i in property_id_bb2['Stay_date']]\n",
    "    ))\n",
    "#date=[x.strftime(\"%Y-%m-%d\") for x in test['Stay_date']]\n",
    "PLOT_OPTS=dict(\n",
    "     x_axis_type='datetime',\n",
    "   )\n",
    "\n",
    "from bokeh.models import HoverTool\n",
    "from bokeh.models import DatetimeTickFormatter\n",
    "hover= HoverTool(tooltips=[('Stay_date','@date'),('ADR','@y{1.11}'),('Day','@Day')])\n",
    "#hover= HoverTool(tooltips='@Day' )\n",
    "#hover.tooltips = [('ADR',' $x'),('Stay_date',' $Total'),('Day','@Day')]\n",
    "\n",
    "p=figure(title='Stay_date Vs ADR for property_id BB',tools=[hover], **PLOT_OPTS)\n",
    "p.left[0].formatter.use_scientific = False\n",
    "p.line(x='x', y='y',source=source) \n",
    "show(p)"
   ]
  },
  {
   "cell_type": "code",
   "execution_count": null,
   "metadata": {
    "collapsed": false
   },
   "outputs": [],
   "source": [
    "property_id_bb.to_excel('C:/Users/Ashwini/Desktop/weekdays_weekend_analysis/Results/property_id_weekdays/BB.xlsx')"
   ]
  },
  {
   "cell_type": "code",
   "execution_count": null,
   "metadata": {
    "collapsed": false
   },
   "outputs": [],
   "source": [
    "property_id_kr = res6[(res6.Property_id == 'KR')].reset_index()\n",
    "del property_id_kr['index']\n",
    "property_id_kr\n",
    "property_id_kr1=property_id_kr.set_index('Property_id')\n",
    "property_id_kr1\n",
    "property_id_kr2=property_id_kr1.sort(['Stay_date'], ascending=[True])\n",
    "property_id_kr2"
   ]
  },
  {
   "cell_type": "code",
   "execution_count": null,
   "metadata": {
    "collapsed": false
   },
   "outputs": [],
   "source": [
    "from bokeh.io import output_notebook\n",
    "output_notebook()\n",
    "from bokeh.io import show\n",
    "from bokeh.plotting import figure\n",
    "p=figure(x_axis_type='datetime')\n",
    "from bokeh.models import ColumnDataSource\n",
    "source= ColumnDataSource(dict(\n",
    "    x=property_id_kr2.loc['KR'].Stay_date,\n",
    "    y=property_id_kr2.loc['KR'].totalRevenue,\n",
    "    Day=property_id_kr2.loc['KR'].Day,\n",
    "    date=[i.strftime(\"%Y-%m-%d\") for i in property_id_kr2['Stay_date']]\n",
    "    ))\n",
    "#date=[x.strftime(\"%Y-%m-%d\") for x in test['Stay_date']]\n",
    "PLOT_OPTS=dict(\n",
    "     x_axis_type='datetime',\n",
    "   )\n",
    "\n",
    "from bokeh.models import HoverTool\n",
    "from bokeh.models import DatetimeTickFormatter\n",
    "hover= HoverTool(tooltips=[('Stay_date','@date'),('totalRevenue','@y{1.11}'),('Day','@Day')])\n",
    "#hover= HoverTool(tooltips='@Day' )\n",
    "#hover.tooltips = [('ADR',' $x'),('Stay_date',' $Total'),('Day','@Day')]\n",
    "\n",
    "p=figure(title='Stay_date Vs totalRevenue for property_id KR',tools=[hover], **PLOT_OPTS)\n",
    "p.left[0].formatter.use_scientific = False\n",
    "p.line(x='x', y='y',source=source) \n",
    "show(p)"
   ]
  },
  {
   "cell_type": "code",
   "execution_count": null,
   "metadata": {
    "collapsed": false
   },
   "outputs": [],
   "source": [
    "from bokeh.io import output_notebook\n",
    "output_notebook()\n",
    "from bokeh.io import show\n",
    "from bokeh.plotting import figure\n",
    "p=figure(x_axis_type='datetime')\n",
    "from bokeh.models import ColumnDataSource\n",
    "source= ColumnDataSource(dict(\n",
    "    x=property_id_kr2.loc['KR'].Stay_date,\n",
    "    y=property_id_kr2.loc['KR'].ADR,\n",
    "    Day=property_id_kr2.loc['KR'].Day,\n",
    "    date=[i.strftime(\"%Y-%m-%d\") for i in property_id_kr2['Stay_date']]\n",
    "    ))\n",
    "#date=[x.strftime(\"%Y-%m-%d\") for x in test['Stay_date']]\n",
    "PLOT_OPTS=dict(\n",
    "     x_axis_type='datetime',\n",
    "   )\n",
    "\n",
    "from bokeh.models import HoverTool\n",
    "from bokeh.models import DatetimeTickFormatter\n",
    "hover= HoverTool(tooltips=[('Stay_date','@date'),('ADR','@y{1.11}'),('Day','@Day')])\n",
    "#hover= HoverTool(tooltips='@Day' )\n",
    "#hover.tooltips = [('ADR',' $x'),('Stay_date',' $Total'),('Day','@Day')]\n",
    "\n",
    "p=figure(title='Stay_date Vs ADR for property_id KR',tools=[hover], **PLOT_OPTS)\n",
    "p.left[0].formatter.use_scientific = False\n",
    "p.line(x='x', y='y',source=source) \n",
    "show(p)"
   ]
  },
  {
   "cell_type": "code",
   "execution_count": null,
   "metadata": {
    "collapsed": true
   },
   "outputs": [],
   "source": [
    "property_id_kr.to_excel('C:/Users/Ashwini/Desktop/weekdays_weekend_analysis/Results/property_id_weekdays/KR.xlsx')"
   ]
  },
  {
   "cell_type": "code",
   "execution_count": null,
   "metadata": {
    "collapsed": false
   },
   "outputs": [],
   "source": [
    "property_id_ss = res6[(res6.Property_id == 'SS')].reset_index()\n",
    "del property_id_ss['index']\n",
    "property_id_ss\n",
    "property_id_ss1=property_id_ss.set_index('Property_id')\n",
    "property_id_ss1\n",
    "property_id_ss2=property_id_ss1.sort(['Stay_date'], ascending=[True])\n",
    "property_id_ss2"
   ]
  },
  {
   "cell_type": "code",
   "execution_count": null,
   "metadata": {
    "collapsed": false
   },
   "outputs": [],
   "source": [
    "from bokeh.io import output_notebook\n",
    "output_notebook()\n",
    "from bokeh.io import show\n",
    "from bokeh.plotting import figure\n",
    "p=figure(x_axis_type='datetime')\n",
    "from bokeh.models import ColumnDataSource\n",
    "source= ColumnDataSource(dict(\n",
    "    x=property_id_ss2.loc['SS'].Stay_date,\n",
    "    y=property_id_ss2.loc['SS'].totalRevenue,\n",
    "    Day=property_id_ss2.loc['SS'].Day,\n",
    "    date=[i.strftime(\"%Y-%m-%d\") for i in property_id_ss2['Stay_date']]\n",
    "    ))\n",
    "#date=[x.strftime(\"%Y-%m-%d\") for x in test['Stay_date']]\n",
    "PLOT_OPTS=dict(\n",
    "     x_axis_type='datetime',\n",
    "   )\n",
    "\n",
    "from bokeh.models import HoverTool\n",
    "from bokeh.models import DatetimeTickFormatter\n",
    "hover= HoverTool(tooltips=[('Stay_date','@date'),('totalRevenue','@y{1.11}'),('Day','@Day')])\n",
    "#hover= HoverTool(tooltips='@Day' )\n",
    "#hover.tooltips = [('ADR',' $x'),('Stay_date',' $Total'),('Day','@Day')]\n",
    "\n",
    "p=figure(title='Stay_date Vs totalRevenue for property_id SS',tools=[hover], **PLOT_OPTS)\n",
    "p.left[0].formatter.use_scientific = False\n",
    "p.line(x='x', y='y',source=source) \n",
    "show(p)"
   ]
  },
  {
   "cell_type": "code",
   "execution_count": null,
   "metadata": {
    "collapsed": false
   },
   "outputs": [],
   "source": [
    "from bokeh.io import output_notebook\n",
    "output_notebook()\n",
    "from bokeh.io import show\n",
    "from bokeh.plotting import figure\n",
    "p=figure(x_axis_type='datetime')\n",
    "from bokeh.models import ColumnDataSource\n",
    "source= ColumnDataSource(dict(\n",
    "    x=property_id_ss2.loc['SS'].Stay_date,\n",
    "    y=property_id_ss2.loc['SS'].ADR,\n",
    "    Day=property_id_ss2.loc['SS'].Day,\n",
    "    date=[i.strftime(\"%Y-%m-%d\") for i in property_id_ss2['Stay_date']]\n",
    "    ))\n",
    "#date=[x.strftime(\"%Y-%m-%d\") for x in test['Stay_date']]\n",
    "PLOT_OPTS=dict(\n",
    "     x_axis_type='datetime',\n",
    "   )\n",
    "\n",
    "from bokeh.models import HoverTool\n",
    "from bokeh.models import DatetimeTickFormatter\n",
    "hover= HoverTool(tooltips=[('Stay_date','@date'),('ADR','@y{1.11}'),('Day','@Day')])\n",
    "#hover= HoverTool(tooltips='@Day' )\n",
    "#hover.tooltips = [('ADR',' $x'),('Stay_date',' $Total'),('Day','@Day')]\n",
    "\n",
    "p=figure(title='Stay_date Vs ADR for property_id SS',tools=[hover], **PLOT_OPTS)\n",
    "p.left[0].formatter.use_scientific = False\n",
    "p.line(x='x', y='y',source=source) \n",
    "show(p)"
   ]
  },
  {
   "cell_type": "code",
   "execution_count": null,
   "metadata": {
    "collapsed": true
   },
   "outputs": [],
   "source": [
    "property_id_ss.to_excel('C:/Users/Ashwini/Desktop/weekdays_weekend_analysis/Results/property_id_weekdays/SS.xlsx')"
   ]
  },
  {
   "cell_type": "code",
   "execution_count": null,
   "metadata": {
    "collapsed": false
   },
   "outputs": [],
   "source": [
    "property_id_kk = res6[(res6.Property_id == 'KK')].reset_index()\n",
    "del property_id_kk['index']\n",
    "property_id_kk\n",
    "property_id_kk1=property_id_kk.set_index('Property_id')\n",
    "property_id_kk1\n",
    "property_id_kk2=property_id_kk1.sort(['Stay_date'], ascending=[True])\n",
    "property_id_kk2"
   ]
  },
  {
   "cell_type": "code",
   "execution_count": null,
   "metadata": {
    "collapsed": false
   },
   "outputs": [],
   "source": [
    "from bokeh.io import output_notebook\n",
    "output_notebook()\n",
    "from bokeh.io import show\n",
    "from bokeh.plotting import figure\n",
    "p=figure(x_axis_type='datetime')\n",
    "from bokeh.models import ColumnDataSource\n",
    "source= ColumnDataSource(dict(\n",
    "    x=property_id_kk2.loc['KK'].Stay_date,\n",
    "    y=property_id_kk2.loc['KK'].totalRevenue,\n",
    "    Day=property_id_kk2.loc['KK'].Day,\n",
    "    date=[i.strftime(\"%Y-%m-%d\") for i in property_id_kk2['Stay_date']]\n",
    "    ))\n",
    "#date=[x.strftime(\"%Y-%m-%d\") for x in test['Stay_date']]\n",
    "PLOT_OPTS=dict(\n",
    "     x_axis_type='datetime',\n",
    "   )\n",
    "\n",
    "from bokeh.models import HoverTool\n",
    "from bokeh.models import DatetimeTickFormatter\n",
    "hover= HoverTool(tooltips=[('Stay_date','@date'),('totalRevenue','@y{1.11}'),('Day','@Day')])\n",
    "#hover= HoverTool(tooltips='@Day' )\n",
    "#hover.tooltips = [('ADR',' $x'),('Stay_date',' $Total'),('Day','@Day')]\n",
    "\n",
    "p=figure(title='Stay_date Vs totalRevenue for property_id KK',tools=[hover], **PLOT_OPTS)\n",
    "p.left[0].formatter.use_scientific = False\n",
    "p.line(x='x', y='y',source=source) \n",
    "show(p)"
   ]
  },
  {
   "cell_type": "code",
   "execution_count": null,
   "metadata": {
    "collapsed": false
   },
   "outputs": [],
   "source": [
    "from bokeh.io import output_notebook\n",
    "output_notebook()\n",
    "from bokeh.io import show\n",
    "from bokeh.plotting import figure\n",
    "p=figure(x_axis_type='datetime')\n",
    "from bokeh.models import ColumnDataSource\n",
    "source= ColumnDataSource(dict(\n",
    "    x=property_id_kk2.loc['KK'].Stay_date,\n",
    "    y=property_id_kk2.loc['KK'].ADR,\n",
    "    Day=property_id_kk2.loc['KK'].Day,\n",
    "    date=[i.strftime(\"%Y-%m-%d\") for i in property_id_kk2['Stay_date']]\n",
    "    ))\n",
    "#date=[x.strftime(\"%Y-%m-%d\") for x in test['Stay_date']]\n",
    "PLOT_OPTS=dict(\n",
    "     x_axis_type='datetime',\n",
    "   )\n",
    "\n",
    "from bokeh.models import HoverTool\n",
    "from bokeh.models import DatetimeTickFormatter\n",
    "hover= HoverTool(tooltips=[('Stay_date','@date'),('ADR','@y{1.11}'),('Day','@Day')])\n",
    "#hover= HoverTool(tooltips='@Day' )\n",
    "#hover.tooltips = [('ADR',' $x'),('Stay_date',' $Total'),('Day','@Day')]\n",
    "\n",
    "p=figure(title='Stay_date Vs ADR for property_id KK',tools=[hover], **PLOT_OPTS)\n",
    "p.left[0].formatter.use_scientific = False\n",
    "p.line(x='x', y='y',source=source) \n",
    "show(p)"
   ]
  },
  {
   "cell_type": "code",
   "execution_count": null,
   "metadata": {
    "collapsed": true
   },
   "outputs": [],
   "source": [
    "property_id_kk.to_excel('C:/Users/Ashwini/Desktop/weekdays_weekend_analysis/Results/property_id_weekdays/KK.xlsx')"
   ]
  },
  {
   "cell_type": "code",
   "execution_count": null,
   "metadata": {
    "collapsed": false
   },
   "outputs": [],
   "source": [
    "property_id_mb = res6[(res6.Property_id == 'MB')].reset_index()\n",
    "del property_id_mb['index']\n",
    "property_id_mb\n",
    "property_id_mb1=property_id_mb.set_index('Property_id')\n",
    "property_id_mb1\n",
    "property_id_mb2=property_id_mb1.sort(['Stay_date'], ascending=[True])\n",
    "property_id_mb2"
   ]
  },
  {
   "cell_type": "code",
   "execution_count": null,
   "metadata": {
    "collapsed": false
   },
   "outputs": [],
   "source": [
    "from bokeh.io import output_notebook\n",
    "output_notebook()\n",
    "from bokeh.io import show\n",
    "from bokeh.plotting import figure\n",
    "p=figure(x_axis_type='datetime')\n",
    "from bokeh.models import ColumnDataSource\n",
    "source= ColumnDataSource(dict(\n",
    "    x=property_id_mb2.loc['MB'].Stay_date,\n",
    "    y=property_id_mb2.loc['MB'].totalRevenue,\n",
    "    Day=property_id_mb2.loc['MB'].Day,\n",
    "    date=[i.strftime(\"%Y-%m-%d\") for i in property_id_mb2['Stay_date']]\n",
    "    ))\n",
    "#date=[x.strftime(\"%Y-%m-%d\") for x in test['Stay_date']]\n",
    "PLOT_OPTS=dict(\n",
    "     x_axis_type='datetime',\n",
    "   )\n",
    "\n",
    "from bokeh.models import HoverTool\n",
    "from bokeh.models import DatetimeTickFormatter\n",
    "hover= HoverTool(tooltips=[('Stay_date','@date'),('totalRevenue','@y{1.11}'),('Day','@Day')])\n",
    "#hover= HoverTool(tooltips='@Day' )\n",
    "#hover.tooltips = [('ADR',' $x'),('Stay_date',' $Total'),('Day','@Day')]\n",
    "\n",
    "p=figure(title='Stay_date Vs totalRevenue for property_id MB',tools=[hover], **PLOT_OPTS)\n",
    "p.left[0].formatter.use_scientific = False\n",
    "p.line(x='x', y='y',source=source) \n",
    "show(p)"
   ]
  },
  {
   "cell_type": "code",
   "execution_count": null,
   "metadata": {
    "collapsed": false
   },
   "outputs": [],
   "source": [
    "from bokeh.io import output_notebook\n",
    "output_notebook()\n",
    "from bokeh.io import show\n",
    "from bokeh.plotting import figure\n",
    "p=figure(x_axis_type='datetime')\n",
    "from bokeh.models import ColumnDataSource\n",
    "source= ColumnDataSource(dict(\n",
    "    x=property_id_mb2.loc['MB'].Stay_date,\n",
    "    y=property_id_mb2.loc['MB'].ADR,\n",
    "    Day=property_id_mb2.loc['MB'].Day,\n",
    "    date=[i.strftime(\"%Y-%m-%d\") for i in property_id_mb2['Stay_date']]\n",
    "    ))\n",
    "#date=[x.strftime(\"%Y-%m-%d\") for x in test['Stay_date']]\n",
    "PLOT_OPTS=dict(\n",
    "     x_axis_type='datetime',\n",
    "   )\n",
    "\n",
    "from bokeh.models import HoverTool\n",
    "from bokeh.models import DatetimeTickFormatter\n",
    "hover= HoverTool(tooltips=[('Stay_date','@date'),('ADR','@y{1.11}'),('Day','@Day')])\n",
    "#hover= HoverTool(tooltips='@Day' )\n",
    "#hover.tooltips = [('ADR',' $x'),('Stay_date',' $Total'),('Day','@Day')]\n",
    "\n",
    "p=figure(title='Stay_date Vs ADR for property_id MB',tools=[hover], **PLOT_OPTS)\n",
    "p.left[0].formatter.use_scientific = False\n",
    "p.line(x='x', y='y',source=source) \n",
    "show(p)"
   ]
  },
  {
   "cell_type": "code",
   "execution_count": null,
   "metadata": {
    "collapsed": true
   },
   "outputs": [],
   "source": [
    "property_id_mb.to_excel('C:/Users/Ashwini/Desktop/weekdays_weekend_analysis/Results/property_id_weekdays/MB.xlsx')"
   ]
  },
  {
   "cell_type": "code",
   "execution_count": null,
   "metadata": {
    "collapsed": false
   },
   "outputs": [],
   "source": [
    "property_id_bg = res6[(res6.Property_id == 'BG')].reset_index()\n",
    "del property_id_bg['index']\n",
    "property_id_bg\n",
    "property_id_bg1=property_id_bg.set_index('Property_id')\n",
    "property_id_bg1\n",
    "property_id_bg2=property_id_bg1.sort(['Stay_date'], ascending=[True])\n",
    "property_id_bg2"
   ]
  },
  {
   "cell_type": "code",
   "execution_count": null,
   "metadata": {
    "collapsed": false
   },
   "outputs": [],
   "source": [
    "from bokeh.io import output_notebook\n",
    "output_notebook()\n",
    "from bokeh.io import show\n",
    "from bokeh.plotting import figure\n",
    "p=figure(x_axis_type='datetime')\n",
    "from bokeh.models import ColumnDataSource\n",
    "source= ColumnDataSource(dict(\n",
    "    x=property_id_bg2.loc['BG'].Stay_date,\n",
    "    y=property_id_bg2.loc['BG'].totalRevenue,\n",
    "    Day=property_id_bg2.loc['BG'].Day,\n",
    "    date=[i.strftime(\"%Y-%m-%d\") for i in property_id_bg2['Stay_date']]\n",
    "    ))\n",
    "#date=[x.strftime(\"%Y-%m-%d\") for x in test['Stay_date']]\n",
    "PLOT_OPTS=dict(\n",
    "     x_axis_type='datetime',\n",
    "   )\n",
    "\n",
    "from bokeh.models import HoverTool\n",
    "from bokeh.models import DatetimeTickFormatter\n",
    "hover= HoverTool(tooltips=[('Stay_date','@date'),('totalRevenue','@y{1.11}'),('Day','@Day')])\n",
    "#hover= HoverTool(tooltips='@Day' )\n",
    "#hover.tooltips = [('ADR',' $x'),('Stay_date',' $Total'),('Day','@Day')]\n",
    "\n",
    "p=figure(title='Stay_date Vs totalRevenue for property_id BG',tools=[hover], **PLOT_OPTS)\n",
    "p.left[0].formatter.use_scientific = False\n",
    "p.line(x='x', y='y',source=source) \n",
    "show(p)"
   ]
  },
  {
   "cell_type": "code",
   "execution_count": null,
   "metadata": {
    "collapsed": false
   },
   "outputs": [],
   "source": [
    "from bokeh.io import output_notebook\n",
    "output_notebook()\n",
    "from bokeh.io import show\n",
    "from bokeh.plotting import figure\n",
    "p=figure(x_axis_type='datetime')\n",
    "from bokeh.models import ColumnDataSource\n",
    "source= ColumnDataSource(dict(\n",
    "    x=property_id_bg2.loc['BG'].Stay_date,\n",
    "    y=property_id_bg2.loc['BG'].ADR,\n",
    "    Day=property_id_bg2.loc['BG'].Day,\n",
    "    date=[i.strftime(\"%Y-%m-%d\") for i in property_id_bg2['Stay_date']]\n",
    "    ))\n",
    "#date=[x.strftime(\"%Y-%m-%d\") for x in test['Stay_date']]\n",
    "PLOT_OPTS=dict(\n",
    "     x_axis_type='datetime',\n",
    "   )\n",
    "\n",
    "from bokeh.models import HoverTool\n",
    "from bokeh.models import DatetimeTickFormatter\n",
    "hover= HoverTool(tooltips=[('Stay_date','@date'),('ADR','@y{1.11}'),('Day','@Day')])\n",
    "#hover= HoverTool(tooltips='@Day' )\n",
    "#hover.tooltips = [('ADR',' $x'),('Stay_date',' $Total'),('Day','@Day')]\n",
    "\n",
    "p=figure(title='Stay_date Vs ADR for property_id BG',tools=[hover], **PLOT_OPTS)\n",
    "p.left[0].formatter.use_scientific = False\n",
    "p.line(x='x', y='y',source=source) \n",
    "show(p)"
   ]
  },
  {
   "cell_type": "code",
   "execution_count": null,
   "metadata": {
    "collapsed": false
   },
   "outputs": [],
   "source": [
    "property_id_bg.to_excel('C:/Users/Ashwini/Desktop/weekdays_weekend_analysis/Results/property_id_weekdays/BG.xlsx')"
   ]
  },
  {
   "cell_type": "code",
   "execution_count": null,
   "metadata": {
    "collapsed": false
   },
   "outputs": [],
   "source": [
    "property_id_ch = res6[(res6.Property_id == 'CH')].reset_index()\n",
    "del property_id_ch['index']\n",
    "property_id_ch\n",
    "property_id_ch1=property_id_ch.set_index('Property_id')\n",
    "property_id_ch1\n",
    "property_id_ch2=property_id_ch1.sort(['Stay_date'], ascending=[True])\n",
    "property_id_ch2"
   ]
  },
  {
   "cell_type": "code",
   "execution_count": null,
   "metadata": {
    "collapsed": false
   },
   "outputs": [],
   "source": [
    "from bokeh.io import output_notebook\n",
    "output_notebook()\n",
    "from bokeh.io import show\n",
    "from bokeh.plotting import figure\n",
    "p=figure(x_axis_type='datetime')\n",
    "from bokeh.models import ColumnDataSource\n",
    "source= ColumnDataSource(dict(\n",
    "    x=property_id_ch2.loc['CH'].Stay_date,\n",
    "    y=property_id_ch2.loc['CH'].totalRevenue,\n",
    "    Day=property_id_ch2.loc['CH'].Day,\n",
    "    date=[i.strftime(\"%Y-%m-%d\") for i in property_id_ch2['Stay_date']]\n",
    "    ))\n",
    "#date=[x.strftime(\"%Y-%m-%d\") for x in test['Stay_date']]\n",
    "PLOT_OPTS=dict(\n",
    "     x_axis_type='datetime',\n",
    "   )\n",
    "\n",
    "from bokeh.models import HoverTool\n",
    "from bokeh.models import DatetimeTickFormatter\n",
    "hover= HoverTool(tooltips=[('Stay_date','@date'),('totalRevenue','@y{1.11}'),('Day','@Day')])\n",
    "#hover= HoverTool(tooltips='@Day' )\n",
    "#hover.tooltips = [('ADR',' $x'),('Stay_date',' $Total'),('Day','@Day')]\n",
    "\n",
    "p=figure(title='Stay_date Vs totalRevenue for property_id CH',tools=[hover], **PLOT_OPTS)\n",
    "p.left[0].formatter.use_scientific = False\n",
    "p.line(x='x', y='y',source=source) \n",
    "show(p)"
   ]
  },
  {
   "cell_type": "code",
   "execution_count": null,
   "metadata": {
    "collapsed": false
   },
   "outputs": [],
   "source": [
    "from bokeh.io import output_notebook\n",
    "output_notebook()\n",
    "from bokeh.io import show\n",
    "from bokeh.plotting import figure\n",
    "p=figure(x_axis_type='datetime')\n",
    "from bokeh.models import ColumnDataSource\n",
    "source= ColumnDataSource(dict(\n",
    "    x=property_id_ch2.loc['CH'].Stay_date,\n",
    "    y=property_id_ch2.loc['CH'].ADR,\n",
    "    Day=property_id_ch2.loc['CH'].Day,\n",
    "    date=[i.strftime(\"%Y-%m-%d\") for i in property_id_ch2['Stay_date']]\n",
    "    ))\n",
    "#date=[x.strftime(\"%Y-%m-%d\") for x in test['Stay_date']]\n",
    "PLOT_OPTS=dict(\n",
    "     x_axis_type='datetime',\n",
    "   )\n",
    "\n",
    "from bokeh.models import HoverTool\n",
    "from bokeh.models import DatetimeTickFormatter\n",
    "hover= HoverTool(tooltips=[('Stay_date','@date'),('ADR','@y{1.11}'),('Day','@Day')])\n",
    "#hover= HoverTool(tooltips='@Day' )\n",
    "#hover.tooltips = [('ADR',' $x'),('Stay_date',' $Total'),('Day','@Day')]\n",
    "\n",
    "p=figure(title='Stay_date Vs ADR for property_id CH',tools=[hover], **PLOT_OPTS)\n",
    "p.left[0].formatter.use_scientific = False\n",
    "p.line(x='x', y='y',source=source) \n",
    "show(p)"
   ]
  },
  {
   "cell_type": "code",
   "execution_count": null,
   "metadata": {
    "collapsed": true
   },
   "outputs": [],
   "source": [
    "property_id_ch.to_excel('C:/Users/Ashwini/Desktop/weekdays_weekend_analysis/Results/property_id_weekdays/CH.xlsx')"
   ]
  },
  {
   "cell_type": "code",
   "execution_count": null,
   "metadata": {
    "collapsed": false
   },
   "outputs": [],
   "source": [
    "property_id_cl = res6[(res6.Property_id == 'CL')].reset_index()\n",
    "del property_id_cl['index']\n",
    "property_id_cl\n",
    "property_id_cl1=property_id_cl.set_index('Property_id')\n",
    "property_id_cl1\n",
    "property_id_cl2=property_id_cl1.sort(['Stay_date'], ascending=[True])\n",
    "property_id_cl2"
   ]
  },
  {
   "cell_type": "code",
   "execution_count": null,
   "metadata": {
    "collapsed": false
   },
   "outputs": [],
   "source": [
    "from bokeh.io import output_notebook\n",
    "output_notebook()\n",
    "from bokeh.io import show\n",
    "from bokeh.plotting import figure\n",
    "p=figure(x_axis_type='datetime')\n",
    "from bokeh.models import ColumnDataSource\n",
    "source= ColumnDataSource(dict(\n",
    "    x=property_id_cl2.loc['CL'].Stay_date,\n",
    "    y=property_id_cl2.loc['CL'].totalRevenue,\n",
    "    Day=property_id_cl2.loc['CL'].Day,\n",
    "    date=[i.strftime(\"%Y-%m-%d\") for i in property_id_cl2['Stay_date']]\n",
    "    ))\n",
    "#date=[x.strftime(\"%Y-%m-%d\") for x in test['Stay_date']]\n",
    "PLOT_OPTS=dict(\n",
    "     x_axis_type='datetime',\n",
    "   )\n",
    "\n",
    "from bokeh.models import HoverTool\n",
    "from bokeh.models import DatetimeTickFormatter\n",
    "hover= HoverTool(tooltips=[('Stay_date','@date'),('totalRevenue','@y{1.11}'),('Day','@Day')])\n",
    "#hover= HoverTool(tooltips='@Day' )\n",
    "#hover.tooltips = [('ADR',' $x'),('Stay_date',' $Total'),('Day','@Day')]\n",
    "\n",
    "p=figure(title='Stay_date Vs totalRevenue for property_id CL',tools=[hover], **PLOT_OPTS)\n",
    "p.left[0].formatter.use_scientific = False\n",
    "p.line(x='x', y='y',source=source) \n",
    "show(p)"
   ]
  },
  {
   "cell_type": "code",
   "execution_count": null,
   "metadata": {
    "collapsed": false
   },
   "outputs": [],
   "source": [
    "from bokeh.io import output_notebook\n",
    "output_notebook()\n",
    "from bokeh.io import show\n",
    "from bokeh.plotting import figure\n",
    "p=figure(x_axis_type='datetime')\n",
    "from bokeh.models import ColumnDataSource\n",
    "source= ColumnDataSource(dict(\n",
    "    x=property_id_cl2.loc['CL'].Stay_date,\n",
    "    y=property_id_cl2.loc['CL'].ADR,\n",
    "    Day=property_id_cl2.loc['CL'].Day,\n",
    "    date=[i.strftime(\"%Y-%m-%d\") for i in property_id_cl2['Stay_date']]\n",
    "    ))\n",
    "#date=[x.strftime(\"%Y-%m-%d\") for x in test['Stay_date']]\n",
    "PLOT_OPTS=dict(\n",
    "     x_axis_type='datetime',\n",
    "   )\n",
    "\n",
    "from bokeh.models import HoverTool\n",
    "from bokeh.models import DatetimeTickFormatter\n",
    "hover= HoverTool(tooltips=[('Stay_date','@date'),('ADR','@y{1.11}'),('Day','@Day')])\n",
    "#hover= HoverTool(tooltips='@Day' )\n",
    "#hover.tooltips = [('ADR',' $x'),('Stay_date',' $Total'),('Day','@Day')]\n",
    "\n",
    "p=figure(title='Stay_date Vs ADR for property_id CL',tools=[hover], **PLOT_OPTS)\n",
    "p.left[0].formatter.use_scientific = False\n",
    "p.line(x='x', y='y',source=source) \n",
    "show(p)"
   ]
  },
  {
   "cell_type": "code",
   "execution_count": null,
   "metadata": {
    "collapsed": true
   },
   "outputs": [],
   "source": [
    "property_id_cl.to_excel('C:/Users/Ashwini/Desktop/weekdays_weekend_analysis/Results/property_id_weekdays/CL.xlsx')"
   ]
  },
  {
   "cell_type": "code",
   "execution_count": null,
   "metadata": {
    "collapsed": false
   },
   "outputs": [],
   "source": [
    "property_id_sv = res6[(res6.Property_id == 'SV')].reset_index()\n",
    "del property_id_sv['index']\n",
    "property_id_sv\n",
    "property_id_sv1=property_id_sv.set_index('Property_id')\n",
    "property_id_sv1\n",
    "property_id_sv2=property_id_sv1.sort(['Stay_date'], ascending=[True])\n",
    "property_id_sv2"
   ]
  },
  {
   "cell_type": "code",
   "execution_count": null,
   "metadata": {
    "collapsed": false
   },
   "outputs": [],
   "source": [
    "from bokeh.io import output_notebook\n",
    "output_notebook()\n",
    "from bokeh.io import show\n",
    "from bokeh.plotting import figure\n",
    "p=figure(x_axis_type='datetime')\n",
    "from bokeh.models import ColumnDataSource\n",
    "source= ColumnDataSource(dict(\n",
    "    x=property_id_sv2.loc['SV'].Stay_date,\n",
    "    y=property_id_sv2.loc['SV'].totalRevenue,\n",
    "    Day=property_id_sv2.loc['SV'].Day,\n",
    "    date=[i.strftime(\"%Y-%m-%d\") for i in property_id_sv2['Stay_date']]\n",
    "    ))\n",
    "#date=[x.strftime(\"%Y-%m-%d\") for x in test['Stay_date']]\n",
    "PLOT_OPTS=dict(\n",
    "     x_axis_type='datetime',\n",
    "   )\n",
    "\n",
    "from bokeh.models import HoverTool\n",
    "from bokeh.models import DatetimeTickFormatter\n",
    "hover= HoverTool(tooltips=[('Stay_date','@date'),('totalRevenue','@y{1.11}'),('Day','@Day')])\n",
    "#hover= HoverTool(tooltips='@Day' )\n",
    "#hover.tooltips = [('ADR',' $x'),('Stay_date',' $Total'),('Day','@Day')]\n",
    "\n",
    "p=figure(title='Stay_date Vs totalRevenue for property_id SV',tools=[hover], **PLOT_OPTS)\n",
    "p.left[0].formatter.use_scientific = False\n",
    "p.line(x='x', y='y',source=source) \n",
    "show(p)"
   ]
  },
  {
   "cell_type": "code",
   "execution_count": null,
   "metadata": {
    "collapsed": false
   },
   "outputs": [],
   "source": [
    "from bokeh.io import output_notebook\n",
    "output_notebook()\n",
    "from bokeh.io import show\n",
    "from bokeh.plotting import figure\n",
    "p=figure(x_axis_type='datetime')\n",
    "from bokeh.models import ColumnDataSource\n",
    "source= ColumnDataSource(dict(\n",
    "    x=property_id_sv2.loc['SV'].Stay_date,\n",
    "    y=property_id_sv2.loc['SV'].ADR,\n",
    "    Day=property_id_sv2.loc['SV'].Day,\n",
    "    date=[i.strftime(\"%Y-%m-%d\") for i in property_id_sv2['Stay_date']]\n",
    "    ))\n",
    "#date=[x.strftime(\"%Y-%m-%d\") for x in test['Stay_date']]\n",
    "PLOT_OPTS=dict(\n",
    "     x_axis_type='datetime',\n",
    "   )\n",
    "\n",
    "from bokeh.models import HoverTool\n",
    "from bokeh.models import DatetimeTickFormatter\n",
    "hover= HoverTool(tooltips=[('Stay_date','@date'),('ADR','@y{1.11}'),('Day','@Day')])\n",
    "#hover= HoverTool(tooltips='@Day' )\n",
    "#hover.tooltips = [('ADR',' $x'),('Stay_date',' $Total'),('Day','@Day')]\n",
    "\n",
    "p=figure(title='Stay_date Vs ADR for property_id SV',tools=[hover], **PLOT_OPTS)\n",
    "p.left[0].formatter.use_scientific = False\n",
    "p.line(x='x', y='y',source=source) \n",
    "show(p)"
   ]
  },
  {
   "cell_type": "code",
   "execution_count": null,
   "metadata": {
    "collapsed": true
   },
   "outputs": [],
   "source": [
    "property_id_sv.to_excel('C:/Users/Ashwini/Desktop/weekdays_weekend_analysis/Results/property_id_weekdays/SV.xlsx')"
   ]
  },
  {
   "cell_type": "code",
   "execution_count": null,
   "metadata": {
    "collapsed": false
   },
   "outputs": [],
   "source": [
    "property_id_eb = res6[(res6.Property_id == 'EB')].reset_index()\n",
    "del property_id_eb['index']\n",
    "property_id_eb\n",
    "property_id_eb1=property_id_eb.set_index('Property_id')\n",
    "property_id_eb1\n",
    "property_id_eb2=property_id_eb1.sort(['Stay_date'], ascending=[True])\n",
    "property_id_eb2"
   ]
  },
  {
   "cell_type": "code",
   "execution_count": null,
   "metadata": {
    "collapsed": false
   },
   "outputs": [],
   "source": [
    "from bokeh.io import output_notebook\n",
    "output_notebook()\n",
    "from bokeh.io import show\n",
    "from bokeh.plotting import figure\n",
    "p=figure(x_axis_type='datetime')\n",
    "from bokeh.models import ColumnDataSource\n",
    "source= ColumnDataSource(dict(\n",
    "    x=property_id_eb2.loc['EB'].Stay_date,\n",
    "    y=property_id_eb2.loc['EB'].totalRevenue,\n",
    "    Day=property_id_eb2.loc['EB'].Day,\n",
    "    date=[i.strftime(\"%Y-%m-%d\") for i in property_id_eb2['Stay_date']]\n",
    "    ))\n",
    "#date=[x.strftime(\"%Y-%m-%d\") for x in test['Stay_date']]\n",
    "PLOT_OPTS=dict(\n",
    "     x_axis_type='datetime',\n",
    "   )\n",
    "\n",
    "from bokeh.models import HoverTool\n",
    "from bokeh.models import DatetimeTickFormatter\n",
    "hover= HoverTool(tooltips=[('Stay_date','@date'),('totalRevenue','@y{1.11}'),('Day','@Day')])\n",
    "#hover= HoverTool(tooltips='@Day' )\n",
    "#hover.tooltips = [('ADR',' $x'),('Stay_date',' $Total'),('Day','@Day')]\n",
    "\n",
    "p=figure(title='Stay_date Vs totalRevenue for property_id EB',tools=[hover], **PLOT_OPTS)\n",
    "p.left[0].formatter.use_scientific = False\n",
    "p.line(x='x', y='y',source=source) \n",
    "show(p)"
   ]
  },
  {
   "cell_type": "code",
   "execution_count": null,
   "metadata": {
    "collapsed": false
   },
   "outputs": [],
   "source": [
    "from bokeh.io import output_notebook\n",
    "output_notebook()\n",
    "from bokeh.io import show\n",
    "from bokeh.plotting import figure\n",
    "p=figure(x_axis_type='datetime')\n",
    "from bokeh.models import ColumnDataSource\n",
    "source= ColumnDataSource(dict(\n",
    "    x=property_id_eb2.loc['EB'].Stay_date,\n",
    "    y=property_id_eb2.loc['EB'].ADR,\n",
    "    Day=property_id_eb2.loc['EB'].Day,\n",
    "    date=[i.strftime(\"%Y-%m-%d\") for i in property_id_eb2['Stay_date']]\n",
    "    ))\n",
    "#date=[x.strftime(\"%Y-%m-%d\") for x in test['Stay_date']]\n",
    "PLOT_OPTS=dict(\n",
    "     x_axis_type='datetime',\n",
    "   )\n",
    "\n",
    "from bokeh.models import HoverTool\n",
    "from bokeh.models import DatetimeTickFormatter\n",
    "hover= HoverTool(tooltips=[('Stay_date','@date'),('ADR','@y{1.11}'),('Day','@Day')])\n",
    "#hover= HoverTool(tooltips='@Day' )\n",
    "#hover.tooltips = [('ADR',' $x'),('Stay_date',' $Total'),('Day','@Day')]\n",
    "\n",
    "p=figure(title='Stay_date Vs ADR for property_id EB',tools=[hover], **PLOT_OPTS)\n",
    "p.left[0].formatter.use_scientific = False\n",
    "p.line(x='x', y='y',source=source) \n",
    "show(p)"
   ]
  },
  {
   "cell_type": "code",
   "execution_count": null,
   "metadata": {
    "collapsed": true
   },
   "outputs": [],
   "source": [
    "property_id_eb.to_excel('C:/Users/Ashwini/Desktop/weekdays_weekend_analysis/Results/property_id_weekdays/EB.xlsx')"
   ]
  },
  {
   "cell_type": "code",
   "execution_count": null,
   "metadata": {
    "collapsed": false
   },
   "outputs": [],
   "source": [
    "property_id_vm = res6[(res6.Property_id == 'VM')].reset_index()\n",
    "del property_id_vm['index']\n",
    "property_id_vm\n",
    "property_id_vm1=property_id_vm.set_index('Property_id')\n",
    "property_id_vm1\n",
    "property_id_vm2=property_id_vm1.sort(['Stay_date'], ascending=[True])\n",
    "property_id_vm2"
   ]
  },
  {
   "cell_type": "code",
   "execution_count": null,
   "metadata": {
    "collapsed": false
   },
   "outputs": [],
   "source": [
    "from bokeh.io import output_notebook\n",
    "output_notebook()\n",
    "from bokeh.io import show\n",
    "from bokeh.plotting import figure\n",
    "p=figure(x_axis_type='datetime')\n",
    "from bokeh.models import ColumnDataSource\n",
    "source= ColumnDataSource(dict(\n",
    "    x=property_id_vm2.loc['VM'].Stay_date,\n",
    "    y=property_id_vm2.loc['VM'].totalRevenue,\n",
    "    Day=property_id_vm2.loc['VM'].Day,\n",
    "    date=[i.strftime(\"%Y-%m-%d\") for i in property_id_vm2['Stay_date']]\n",
    "    ))\n",
    "#date=[x.strftime(\"%Y-%m-%d\") for x in test['Stay_date']]\n",
    "PLOT_OPTS=dict(\n",
    "     x_axis_type='datetime',\n",
    "   )\n",
    "\n",
    "from bokeh.models import HoverTool\n",
    "from bokeh.models import DatetimeTickFormatter\n",
    "hover= HoverTool(tooltips=[('Stay_date','@date'),('totalRevenue','@y{1.11}'),('Day','@Day')])\n",
    "#hover= HoverTool(tooltips='@Day' )\n",
    "#hover.tooltips = [('ADR',' $x'),('Stay_date',' $Total'),('Day','@Day')]\n",
    "\n",
    "p=figure(title='Stay_date Vs totalRevenue for property_id VM',tools=[hover], **PLOT_OPTS)\n",
    "p.left[0].formatter.use_scientific = False\n",
    "p.line(x='x', y='y',source=source) \n",
    "show(p)"
   ]
  },
  {
   "cell_type": "code",
   "execution_count": null,
   "metadata": {
    "collapsed": false
   },
   "outputs": [],
   "source": [
    "from bokeh.io import output_notebook\n",
    "output_notebook()\n",
    "from bokeh.io import show\n",
    "from bokeh.plotting import figure\n",
    "p=figure(x_axis_type='datetime')\n",
    "from bokeh.models import ColumnDataSource\n",
    "source= ColumnDataSource(dict(\n",
    "    x=property_id_vm2.loc['VM'].Stay_date,\n",
    "    y=property_id_vm2.loc['VM'].ADR,\n",
    "    Day=property_id_vm2.loc['VM'].Day,\n",
    "    date=[i.strftime(\"%Y-%m-%d\") for i in property_id_vm2['Stay_date']]\n",
    "    ))\n",
    "#date=[x.strftime(\"%Y-%m-%d\") for x in test['Stay_date']]\n",
    "PLOT_OPTS=dict(\n",
    "     x_axis_type='datetime',\n",
    "   )\n",
    "\n",
    "from bokeh.models import HoverTool\n",
    "from bokeh.models import DatetimeTickFormatter\n",
    "hover= HoverTool(tooltips=[('Stay_date','@date'),('ADR','@y{1.11}'),('Day','@Day')])\n",
    "#hover= HoverTool(tooltips='@Day' )\n",
    "#hover.tooltips = [('ADR',' $x'),('Stay_date',' $Total'),('Day','@Day')]\n",
    "\n",
    "p=figure(title='Stay_date Vs ADR for property_id VM',tools=[hover], **PLOT_OPTS)\n",
    "p.left[0].formatter.use_scientific = False\n",
    "p.line(x='x', y='y',source=source) \n",
    "show(p)"
   ]
  },
  {
   "cell_type": "code",
   "execution_count": null,
   "metadata": {
    "collapsed": true
   },
   "outputs": [],
   "source": [
    "property_id_vm.to_excel('C:/Users/Ashwini/Desktop/weekdays_weekend_analysis/Results/property_id_weekdays/VM.xlsx')"
   ]
  },
  {
   "cell_type": "code",
   "execution_count": null,
   "metadata": {
    "collapsed": false
   },
   "outputs": [],
   "source": [
    "property_id_mm = res6[(res6.Property_id == 'MM')].reset_index()\n",
    "del property_id_mm['index']\n",
    "property_id_mm\n",
    "property_id_mm1=property_id_mm.set_index('Property_id')\n",
    "property_id_mm1\n",
    "property_id_mm2=property_id_mm1.sort(['Stay_date'], ascending=[True])\n",
    "property_id_mm2"
   ]
  },
  {
   "cell_type": "code",
   "execution_count": null,
   "metadata": {
    "collapsed": false
   },
   "outputs": [],
   "source": [
    "from bokeh.io import output_notebook\n",
    "output_notebook()\n",
    "from bokeh.io import show\n",
    "from bokeh.plotting import figure\n",
    "p=figure(x_axis_type='datetime')\n",
    "from bokeh.models import ColumnDataSource\n",
    "source= ColumnDataSource(dict(\n",
    "    x=property_id_mm2.loc['MM'].Stay_date,\n",
    "    y=property_id_mm2.loc['MM'].totalRevenue,\n",
    "    Day=property_id_mm2.loc['MM'].Day,\n",
    "    date=[i.strftime(\"%Y-%m-%d\") for i in property_id_mm2['Stay_date']]\n",
    "    ))\n",
    "#date=[x.strftime(\"%Y-%m-%d\") for x in test['Stay_date']]\n",
    "PLOT_OPTS=dict(\n",
    "     x_axis_type='datetime',\n",
    "   )\n",
    "\n",
    "from bokeh.models import HoverTool\n",
    "from bokeh.models import DatetimeTickFormatter\n",
    "hover= HoverTool(tooltips=[('Stay_date','@date'),('totalRevenue','@y{1.11}'),('Day','@Day')])\n",
    "#hover= HoverTool(tooltips='@Day' )\n",
    "#hover.tooltips = [('ADR',' $x'),('Stay_date',' $Total'),('Day','@Day')]\n",
    "\n",
    "p=figure(title='Stay_date Vs totalRevenue for property_id MM',tools=[hover], **PLOT_OPTS)\n",
    "p.left[0].formatter.use_scientific = False\n",
    "p.line(x='x', y='y',source=source) \n",
    "show(p)"
   ]
  },
  {
   "cell_type": "code",
   "execution_count": null,
   "metadata": {
    "collapsed": false
   },
   "outputs": [],
   "source": [
    "from bokeh.io import output_notebook\n",
    "output_notebook()\n",
    "from bokeh.io import show\n",
    "from bokeh.plotting import figure\n",
    "p=figure(x_axis_type='datetime')\n",
    "from bokeh.models import ColumnDataSource\n",
    "source= ColumnDataSource(dict(\n",
    "    x=property_id_mm2.loc['MM'].Stay_date,\n",
    "    y=property_id_mm2.loc['MM'].ADR,\n",
    "    Day=property_id_mm2.loc['MM'].Day,\n",
    "    date=[i.strftime(\"%Y-%m-%d\") for i in property_id_mm2['Stay_date']]\n",
    "    ))\n",
    "#date=[x.strftime(\"%Y-%m-%d\") for x in test['Stay_date']]\n",
    "PLOT_OPTS=dict(\n",
    "     x_axis_type='datetime',\n",
    "   )\n",
    "\n",
    "from bokeh.models import HoverTool\n",
    "from bokeh.models import DatetimeTickFormatter\n",
    "hover= HoverTool(tooltips=[('Stay_date','@date'),('ADR','@y{1.11}'),('Day','@Day')])\n",
    "#hover= HoverTool(tooltips='@Day' )\n",
    "#hover.tooltips = [('ADR',' $x'),('Stay_date',' $Total'),('Day','@Day')]\n",
    "\n",
    "p=figure(title='Stay_date Vs ADR for property_id MM',tools=[hover], **PLOT_OPTS)\n",
    "p.left[0].formatter.use_scientific = False\n",
    "p.line(x='x', y='y',source=source) \n",
    "show(p)"
   ]
  },
  {
   "cell_type": "code",
   "execution_count": null,
   "metadata": {
    "collapsed": true
   },
   "outputs": [],
   "source": [
    "property_id_mm.to_excel('C:/Users/Ashwini/Desktop/weekdays_weekend_analysis/Results/property_id_weekdays/MM.xlsx')"
   ]
  },
  {
   "cell_type": "code",
   "execution_count": null,
   "metadata": {
    "collapsed": false
   },
   "outputs": [],
   "source": [
    "property_id_sc = res6[(res6.Property_id == 'SC')].reset_index()\n",
    "del property_id_sc['index']\n",
    "property_id_sc\n",
    "property_id_sc1=property_id_sc.set_index('Property_id')\n",
    "property_id_sc1\n",
    "property_id_sc2=property_id_sc1.sort(['Stay_date'], ascending=[True])\n",
    "property_id_sc2"
   ]
  },
  {
   "cell_type": "code",
   "execution_count": null,
   "metadata": {
    "collapsed": false
   },
   "outputs": [],
   "source": [
    "from bokeh.io import output_notebook\n",
    "output_notebook()\n",
    "from bokeh.io import show\n",
    "from bokeh.plotting import figure\n",
    "p=figure(x_axis_type='datetime')\n",
    "from bokeh.models import ColumnDataSource\n",
    "source= ColumnDataSource(dict(\n",
    "    x=property_id_sc2.loc['SC'].Stay_date,\n",
    "    y=property_id_sc2.loc['SC'].totalRevenue,\n",
    "    Day=property_id_sc2.loc['SC'].Day,\n",
    "    date=[i.strftime(\"%Y-%m-%d\") for i in property_id_sc2['Stay_date']]\n",
    "    ))\n",
    "#date=[x.strftime(\"%Y-%m-%d\") for x in test['Stay_date']]\n",
    "PLOT_OPTS=dict(\n",
    "     x_axis_type='datetime',\n",
    "   )\n",
    "\n",
    "from bokeh.models import HoverTool\n",
    "from bokeh.models import DatetimeTickFormatter\n",
    "hover= HoverTool(tooltips=[('Stay_date','@date'),('totalRevenue','@y{1.11}'),('Day','@Day')])\n",
    "#hover= HoverTool(tooltips='@Day' )\n",
    "#hover.tooltips = [('ADR',' $x'),('Stay_date',' $Total'),('Day','@Day')]\n",
    "\n",
    "p=figure(title='Stay_date Vs totalRevenue for property_id SC',tools=[hover], **PLOT_OPTS)\n",
    "p.left[0].formatter.use_scientific = False\n",
    "p.line(x='x', y='y',source=source) \n",
    "show(p)"
   ]
  },
  {
   "cell_type": "code",
   "execution_count": null,
   "metadata": {
    "collapsed": false
   },
   "outputs": [],
   "source": [
    "from bokeh.io import output_notebook\n",
    "output_notebook()\n",
    "from bokeh.io import show\n",
    "from bokeh.plotting import figure\n",
    "p=figure(x_axis_type='datetime')\n",
    "from bokeh.models import ColumnDataSource\n",
    "source= ColumnDataSource(dict(\n",
    "    x=property_id_sc2.loc['SC'].Stay_date,\n",
    "    y=property_id_sc2.loc['SC'].ADR,\n",
    "    Day=property_id_sc2.loc['SC'].Day,\n",
    "    date=[i.strftime(\"%Y-%m-%d\") for i in property_id_sc2['Stay_date']]\n",
    "    ))\n",
    "#date=[x.strftime(\"%Y-%m-%d\") for x in test['Stay_date']]\n",
    "PLOT_OPTS=dict(\n",
    "     x_axis_type='datetime',\n",
    "   )\n",
    "\n",
    "from bokeh.models import HoverTool\n",
    "from bokeh.models import DatetimeTickFormatter\n",
    "hover= HoverTool(tooltips=[('Stay_date','@date'),('ADR','@y{1.11}'),('Day','@Day')])\n",
    "#hover= HoverTool(tooltips='@Day' )\n",
    "#hover.tooltips = [('ADR',' $x'),('Stay_date',' $Total'),('Day','@Day')]\n",
    "\n",
    "p=figure(title='Stay_date Vs ADR for property_id SC',tools=[hover], **PLOT_OPTS)\n",
    "p.left[0].formatter.use_scientific = False\n",
    "p.line(x='x', y='y',source=source) \n",
    "show(p)"
   ]
  },
  {
   "cell_type": "code",
   "execution_count": null,
   "metadata": {
    "collapsed": true
   },
   "outputs": [],
   "source": [
    "property_id_sc.to_excel('C:/Users/Ashwini/Desktop/weekdays_weekend_analysis/Results/property_id_weekdays/SC.xlsx')"
   ]
  },
  {
   "cell_type": "code",
   "execution_count": null,
   "metadata": {
    "collapsed": false
   },
   "outputs": [],
   "source": [
    "property_id_mp = res6[(res6.Property_id == 'MP')].reset_index()\n",
    "del property_id_mp['index']\n",
    "property_id_mp\n",
    "property_id_mp1=property_id_mp.set_index('Property_id')\n",
    "property_id_mp1\n",
    "property_id_mp2=property_id_mp1.sort(['Stay_date'], ascending=[True])\n",
    "property_id_mp2"
   ]
  },
  {
   "cell_type": "code",
   "execution_count": null,
   "metadata": {
    "collapsed": false
   },
   "outputs": [],
   "source": [
    "from bokeh.io import output_notebook\n",
    "output_notebook()\n",
    "from bokeh.io import show\n",
    "from bokeh.plotting import figure\n",
    "p=figure(x_axis_type='datetime')\n",
    "from bokeh.models import ColumnDataSource\n",
    "source= ColumnDataSource(dict(\n",
    "    x=property_id_mp2.loc['MP'].Stay_date,\n",
    "    y=property_id_mp2.loc['MP'].totalRevenue,\n",
    "    Day=property_id_mp2.loc['MP'].Day,\n",
    "    date=[i.strftime(\"%Y-%m-%d\") for i in property_id_mp2['Stay_date']]\n",
    "    ))\n",
    "#date=[x.strftime(\"%Y-%m-%d\") for x in test['Stay_date']]\n",
    "PLOT_OPTS=dict(\n",
    "     x_axis_type='datetime',\n",
    "   )\n",
    "\n",
    "from bokeh.models import HoverTool\n",
    "from bokeh.models import DatetimeTickFormatter\n",
    "hover= HoverTool(tooltips=[('Stay_date','@date'),('totalRevenue','@y{1.11}'),('Day','@Day')])\n",
    "#hover= HoverTool(tooltips='@Day' )\n",
    "#hover.tooltips = [('ADR',' $x'),('Stay_date',' $Total'),('Day','@Day')]\n",
    "\n",
    "p=figure(title='Stay_date Vs totalRevenue for property_id MP',tools=[hover], **PLOT_OPTS)\n",
    "p.left[0].formatter.use_scientific = False\n",
    "p.line(x='x', y='y',source=source) \n",
    "show(p)"
   ]
  },
  {
   "cell_type": "code",
   "execution_count": null,
   "metadata": {
    "collapsed": false
   },
   "outputs": [],
   "source": [
    "from bokeh.io import output_notebook\n",
    "output_notebook()\n",
    "from bokeh.io import show\n",
    "from bokeh.plotting import figure\n",
    "p=figure(x_axis_type='datetime')\n",
    "from bokeh.models import ColumnDataSource\n",
    "source= ColumnDataSource(dict(\n",
    "    x=property_id_mp2.loc['MP'].Stay_date,\n",
    "    y=property_id_mp2.loc['MP'].ADR,\n",
    "    Day=property_id_mp2.loc['MP'].Day,\n",
    "    date=[i.strftime(\"%Y-%m-%d\") for i in property_id_mp2['Stay_date']]\n",
    "    ))\n",
    "#date=[x.strftime(\"%Y-%m-%d\") for x in test['Stay_date']]\n",
    "PLOT_OPTS=dict(\n",
    "     x_axis_type='datetime',\n",
    "   )\n",
    "\n",
    "from bokeh.models import HoverTool\n",
    "from bokeh.models import DatetimeTickFormatter\n",
    "hover= HoverTool(tooltips=[('Stay_date','@date'),('ADR','@y{1.11}'),('Day','@Day')])\n",
    "#hover= HoverTool(tooltips='@Day' )\n",
    "#hover.tooltips = [('ADR',' $x'),('Stay_date',' $Total'),('Day','@Day')]\n",
    "\n",
    "p=figure(title='Stay_date Vs ADR for property_id MP',tools=[hover], **PLOT_OPTS)\n",
    "p.left[0].formatter.use_scientific = False\n",
    "p.line(x='x', y='y',source=source) \n",
    "show(p)"
   ]
  },
  {
   "cell_type": "code",
   "execution_count": null,
   "metadata": {
    "collapsed": true
   },
   "outputs": [],
   "source": [
    "property_id_mp.to_excel('C:/Users/Ashwini/Desktop/weekdays_weekend_analysis/Results/property_id_weekdays/MP.xlsx')"
   ]
  },
  {
   "cell_type": "code",
   "execution_count": null,
   "metadata": {
    "collapsed": false
   },
   "outputs": [],
   "source": [
    "#res7=property_id_mp.iloc[1:150,:]\n",
    "#res7\n"
   ]
  },
  {
   "cell_type": "code",
   "execution_count": null,
   "metadata": {
    "collapsed": false
   },
   "outputs": [],
   "source": [
    "#%matplotlib inline\n",
    "#res7.plot(kind='line',title=\"Stay date Vs ADR for property_id MP\",x=['Stay_date'],y='ADR',figsize=(20,20),subplots=True)"
   ]
  },
  {
   "cell_type": "code",
   "execution_count": null,
   "metadata": {
    "collapsed": false
   },
   "outputs": [],
   "source": [
    "property_id_vv = res6[(res6.Property_id == 'VV')].reset_index()\n",
    "del property_id_vv['index']\n",
    "property_id_vv\n",
    "property_id_vv1=property_id_vv.set_index('Property_id')\n",
    "property_id_vv1\n",
    "property_id_vv2=property_id_vv1.sort(['Stay_date'], ascending=[True])\n",
    "property_id_vv2"
   ]
  },
  {
   "cell_type": "code",
   "execution_count": null,
   "metadata": {
    "collapsed": false
   },
   "outputs": [],
   "source": [
    "from bokeh.io import output_notebook\n",
    "output_notebook()\n",
    "from bokeh.io import show\n",
    "from bokeh.plotting import figure\n",
    "p=figure(x_axis_type='datetime')\n",
    "from bokeh.models import ColumnDataSource\n",
    "source= ColumnDataSource(dict(\n",
    "    x=property_id_vv2.loc['VV'].Stay_date,\n",
    "    y=property_id_vv2.loc['VV'].totalRevenue,\n",
    "    Day=property_id_vv2.loc['VV'].Day,\n",
    "    date=[i.strftime(\"%Y-%m-%d\") for i in property_id_vv2['Stay_date']]\n",
    "    ))\n",
    "#date=[x.strftime(\"%Y-%m-%d\") for x in test['Stay_date']]\n",
    "PLOT_OPTS=dict(\n",
    "     x_axis_type='datetime',\n",
    "   )\n",
    "\n",
    "from bokeh.models import HoverTool\n",
    "from bokeh.models import DatetimeTickFormatter\n",
    "hover= HoverTool(tooltips=[('Stay_date','@date'),('totalRevenue','@y{1.11}'),('Day','@Day')])\n",
    "#hover= HoverTool(tooltips='@Day' )\n",
    "#hover.tooltips = [('ADR',' $x'),('Stay_date',' $Total'),('Day','@Day')]\n",
    "\n",
    "p=figure(title='Stay_date Vs totalRevenue for property_id VV',tools=[hover], **PLOT_OPTS)\n",
    "p.left[0].formatter.use_scientific = False\n",
    "p.line(x='x', y='y',source=source) \n",
    "show(p)"
   ]
  },
  {
   "cell_type": "code",
   "execution_count": null,
   "metadata": {
    "collapsed": false
   },
   "outputs": [],
   "source": [
    "from bokeh.io import output_notebook\n",
    "output_notebook()\n",
    "from bokeh.io import show\n",
    "from bokeh.plotting import figure\n",
    "p=figure(x_axis_type='datetime')\n",
    "from bokeh.models import ColumnDataSource\n",
    "source= ColumnDataSource(dict(\n",
    "    x=property_id_vv2.loc['VV'].Stay_date,\n",
    "    y=property_id_vv2.loc['VV'].ADR,\n",
    "    Day=property_id_vv2.loc['VV'].Day,\n",
    "    date=[i.strftime(\"%Y-%m-%d\") for i in property_id_vv2['Stay_date']]\n",
    "    ))\n",
    "#date=[x.strftime(\"%Y-%m-%d\") for x in test['Stay_date']]\n",
    "PLOT_OPTS=dict(\n",
    "     x_axis_type='datetime',\n",
    "   )\n",
    "\n",
    "from bokeh.models import HoverTool\n",
    "from bokeh.models import DatetimeTickFormatter\n",
    "hover= HoverTool(tooltips=[('Stay_date','@date'),('ADR','@y{1.11}'),('Day','@Day')])\n",
    "#hover= HoverTool(tooltips='@Day' )\n",
    "#hover.tooltips = [('ADR',' $x'),('Stay_date',' $Total'),('Day','@Day')]\n",
    "\n",
    "p=figure(title='Stay_date Vs ADR for property_id VV',tools=[hover], **PLOT_OPTS)\n",
    "p.left[0].formatter.use_scientific = False\n",
    "p.line(x='x', y='y',source=source) \n",
    "show(p)"
   ]
  },
  {
   "cell_type": "code",
   "execution_count": null,
   "metadata": {
    "collapsed": true
   },
   "outputs": [],
   "source": [
    "property_id_vv.to_excel('C:/Users/Ashwini/Desktop/weekdays_weekend_analysis/Results/property_id_weekdays/VV.xlsx')"
   ]
  },
  {
   "cell_type": "code",
   "execution_count": null,
   "metadata": {
    "collapsed": false
   },
   "outputs": [],
   "source": [
    "property_id_cp = res6[(res6.Property_id == 'CP')].reset_index()\n",
    "del property_id_cp['index']\n",
    "property_id_cp\n",
    "property_id_cp1=property_id_cp.set_index('Property_id')\n",
    "property_id_cp1\n",
    "property_id_cp2=property_id_cp1.sort(['Stay_date'], ascending=[True])\n",
    "property_id_cp2"
   ]
  },
  {
   "cell_type": "code",
   "execution_count": null,
   "metadata": {
    "collapsed": false
   },
   "outputs": [],
   "source": [
    "from bokeh.io import output_notebook\n",
    "output_notebook()\n",
    "from bokeh.io import show\n",
    "from bokeh.plotting import figure\n",
    "p=figure(x_axis_type='datetime')\n",
    "from bokeh.models import ColumnDataSource\n",
    "source= ColumnDataSource(dict(\n",
    "    x=property_id_cp2.loc['CP'].Stay_date,\n",
    "    y=property_id_cp2.loc['CP'].totalRevenue,\n",
    "    Day=property_id_cp2.loc['CP'].Day,\n",
    "    date=[i.strftime(\"%Y-%m-%d\") for i in property_id_cp2['Stay_date']]\n",
    "    ))\n",
    "#date=[x.strftime(\"%Y-%m-%d\") for x in test['Stay_date']]\n",
    "PLOT_OPTS=dict(\n",
    "     x_axis_type='datetime',\n",
    "   )\n",
    "\n",
    "from bokeh.models import HoverTool\n",
    "from bokeh.models import DatetimeTickFormatter\n",
    "hover= HoverTool(tooltips=[('Stay_date','@date'),('totalRevenue','@y{1.11}'),('Day','@Day')])\n",
    "#hover= HoverTool(tooltips='@Day' )\n",
    "#hover.tooltips = [('ADR',' $x'),('Stay_date',' $Total'),('Day','@Day')]\n",
    "\n",
    "p=figure(title='Stay_date Vs totalRevenue for property_id CP',tools=[hover], **PLOT_OPTS)\n",
    "p.left[0].formatter.use_scientific = False\n",
    "p.line(x='x', y='y',source=source) \n",
    "show(p)"
   ]
  },
  {
   "cell_type": "code",
   "execution_count": null,
   "metadata": {
    "collapsed": false
   },
   "outputs": [],
   "source": [
    "from bokeh.io import output_notebook\n",
    "output_notebook()\n",
    "from bokeh.io import show\n",
    "from bokeh.plotting import figure\n",
    "p=figure(x_axis_type='datetime')\n",
    "from bokeh.models import ColumnDataSource\n",
    "\n",
    "source= ColumnDataSource(dict(\n",
    "    x=property_id_cp2.loc['CP'].Stay_date,\n",
    "    y=property_id_cp2.loc['CP'].ADR,\n",
    "    Day=property_id_cp2.loc['CP'].Day,\n",
    "    date=[i.strftime(\"%Y-%m-%d\") for i in property_id_cp2['Stay_date']]\n",
    "    ))\n",
    "\n",
    "\n",
    "#date=[x.strftime(\"%Y-%m-%d\") for x in test['Stay_date']]\n",
    "PLOT_OPTS=dict(\n",
    "     x_axis_type='datetime',\n",
    "   )\n",
    "\n",
    "from bokeh.models import HoverTool\n",
    "from bokeh.models import DatetimeTickFormatter\n",
    "hover= HoverTool(tooltips=[('Stay_date','@date'),('ADR','@y{1.11}'),('Day','@Day')])\n",
    "#hover= HoverTool(tooltips='@Day' )\n",
    "#hover.tooltips = [('ADR',' $x'),('Stay_date',' $Total'),('Day','@Day')]\n",
    "\n",
    "p=figure(title='Stay_date Vs ADR for property_id CP',tools=[hover], **PLOT_OPTS)\n",
    "p.left[0].formatter.use_scientific = False\n",
    "p.line(x='x', y='y',source=source)\n",
    "show(p)"
   ]
  },
  {
   "cell_type": "code",
   "execution_count": null,
   "metadata": {
    "collapsed": true
   },
   "outputs": [],
   "source": [
    "property_id_cp.to_excel('C:/Users/Ashwini/Desktop/weekdays_weekend_analysis/Results/property_id_weekdays/CP.xlsx')"
   ]
  },
  {
   "cell_type": "code",
   "execution_count": null,
   "metadata": {
    "collapsed": false
   },
   "outputs": [],
   "source": [
    "property_id_aa = res6[(res6.Property_id == 'AA')].reset_index()\n",
    "del property_id_aa['index']\n",
    "property_id_aa\n",
    "property_id_aa1=property_id_aa.set_index('Property_id')\n",
    "property_id_aa1\n",
    "property_id_aa2=property_id_aa1.sort(['Stay_date'], ascending=[True])\n",
    "property_id_aa2"
   ]
  },
  {
   "cell_type": "code",
   "execution_count": null,
   "metadata": {
    "collapsed": true
   },
   "outputs": [],
   "source": [
    "property_id_aa.to_excel('C:/Users/Ashwini/Desktop/weekdays_weekend_analysis/Results/property_id_weekdays/AA.xlsx')"
   ]
  },
  {
   "cell_type": "code",
   "execution_count": null,
   "metadata": {
    "collapsed": false
   },
   "outputs": [],
   "source": [
    "property_id_gf = res6[(res6.Property_id == 'GF')].reset_index()\n",
    "del property_id_gf['index']\n",
    "property_id_gf\n",
    "property_id_gf1=property_id_gf.set_index('Property_id')\n",
    "property_id_gf1\n",
    "property_id_gf2=property_id_gf1.sort(['Stay_date'], ascending=[True])\n",
    "property_id_gf2"
   ]
  },
  {
   "cell_type": "code",
   "execution_count": null,
   "metadata": {
    "collapsed": false
   },
   "outputs": [],
   "source": [
    "property_id_gf.to_excel('C:/Users/Ashwini/Desktop/weekdays_weekend_analysis/Results/property_id_weekdays/GF.xlsx')"
   ]
  },
  {
   "cell_type": "markdown",
   "metadata": {
    "collapsed": true
   },
   "source": []
  },
  {
   "cell_type": "code",
   "execution_count": null,
   "metadata": {
    "collapsed": false
   },
   "outputs": [],
   "source": [
    "#property_id_kr2"
   ]
  },
  {
   "cell_type": "code",
   "execution_count": null,
   "metadata": {
    "collapsed": false
   },
   "outputs": [],
   "source": [
    "#property_id_bb2"
   ]
  },
  {
   "cell_type": "code",
   "execution_count": null,
   "metadata": {
    "collapsed": false
   },
   "outputs": [],
   "source": [
    "# from collections import defaultdict\n",
    "\n",
    "# import numpy as np\n",
    "# from scipy.stats import norm\n",
    "\n",
    "# from bokeh.plotting import show, figure\n",
    "# from bokeh.models import ColumnDataSource, HoverTool\n",
    "# from bokeh.palettes import Viridis6\n",
    "\n",
    "# d1 = property_id_bb2.reset_index()\n",
    "# list1 = d1.values.T.tolist()\n",
    "\n",
    "# d2 = property_id_kr2.reset_index()\n",
    "# list2 = d2.values.T.tolist()\n",
    "\n",
    "# a = property_id_bb2.loc['BB'].Stay_date\n",
    "# RT_x1 = a.unique()\n",
    "\n",
    "\n",
    "\n",
    "# mass_spec = defaultdict(list)\n",
    "# i=1\n",
    "# for i in range(1,3):\n",
    "#     mass_spec[\"RT\"].append(RT_x1)\n",
    "#     mass_spec[\"RT\"].append(RT_x1)\n",
    "#     mass_spec[\"RT_intensity\"].append(list1[5])\n",
    "#     mass_spec[\"RT_intensity\"].append(list2[5])\n",
    "#     mass_spec['MZ_tip'].append(list1[2])\n",
    "#     mass_spec['MZ_tip'].append(list2[2])\n",
    "#     mass_spec['Intensity_tip'].append(list1[1])\n",
    "#     mass_spec['Intensity_tip'].append(list1[2])\n",
    "\n",
    "\n",
    "# mass_spec['color'] = Viridis6\n",
    "\n",
    "# source = ColumnDataSource(mass_spec)\n",
    "\n",
    "# p = figure(plot_height=400)\n",
    "# p.multi_line(xs='RT', ys='RT_intensity', legend=\"Intensity_tip\",\n",
    "#              line_width=5, line_color='color', line_alpha=0.6,\n",
    "#              hover_line_color='color', hover_line_alpha=1.0,\n",
    "#              source=source)\n",
    "\n",
    "# p.add_tools(HoverTool(show_arrow=False, line_policy='next', tooltips=[\n",
    "#     ('MZ', '@MZ_tip'),\n",
    "#     ('Rel Intensity', '@Intensity_tip')\n",
    "# ]))\n",
    "\n",
    "# show(p)"
   ]
  },
  {
   "cell_type": "code",
   "execution_count": null,
   "metadata": {
    "collapsed": false
   },
   "outputs": [],
   "source": [
    "# d1 = property_id_bb2.reset_index()\n",
    "# list1 = d1.values.T.tolist()\n",
    "# list1[5]"
   ]
  },
  {
   "cell_type": "code",
   "execution_count": null,
   "metadata": {
    "collapsed": false
   },
   "outputs": [],
   "source": [
    "# a = property_id_bb2.loc['BB'].Stay_date\n",
    "# a = a.unique()"
   ]
  },
  {
   "cell_type": "code",
   "execution_count": null,
   "metadata": {
    "collapsed": false
   },
   "outputs": [],
   "source": [
    "# a"
   ]
  },
  {
   "cell_type": "code",
   "execution_count": null,
   "metadata": {
    "collapsed": false
   },
   "outputs": [],
   "source": [
    "# %matplotlib inline\n",
    "# property_id_bb2.plot(kind='line',x=['Stay_date'],y='totalRevenue',figsize=(10,10),subplots=True)\n",
    "# fig, axes = plt.subplots(nrows=2, ncols=2)\n",
    "# property_id_bb2.plot(ax=axes[0,0])\n",
    "# property_id_kr2.plot(ax=axes[0,1])\n",
    "\n",
    "\n",
    "\n",
    "\n",
    "# from bokeh.plotting import figure, output_file, show\n",
    "\n",
    "# p = figure(plot_width=300, plot_height=300)\n",
    "# p.multi_line(xs=[[BB], [2, 3, 4]], ys=[[6, 7, 2], [4, 5, 7]],\n",
    "#              color=['red','green'])\n",
    "\n",
    "# show(p)"
   ]
  },
  {
   "cell_type": "code",
   "execution_count": null,
   "metadata": {
    "collapsed": false
   },
   "outputs": [],
   "source": [
    "#Property_id_bb2=reset_index()"
   ]
  },
  {
   "cell_type": "code",
   "execution_count": null,
   "metadata": {
    "collapsed": false
   },
   "outputs": [],
   "source": []
  },
  {
   "cell_type": "code",
   "execution_count": null,
   "metadata": {
    "collapsed": false
   },
   "outputs": [],
   "source": [
    "from bokeh.io import output_notebook\n",
    "output_notebook()\n",
    "from bokeh.io import show\n",
    "from bokeh.plotting import figure\n",
    "p=figure(x_axis_type='datetime')\n",
    "from bokeh.models import ColumnDataSource\n",
    "\n",
    "source= ColumnDataSource(dict(\n",
    "    x=property_id_bb2.loc['BB'].Stay_date,\n",
    "    y=property_id_bb2.loc['BB'].ADR,\n",
    "    Day=property_id_bb2.loc['BB'].Day,\n",
    "    date=[i.strftime(\"%Y-%m-%d\") for i in property_id_bb2['Stay_date']]\n",
    "    ))\n",
    "\n",
    "\n",
    "\n",
    "source= ColumnDataSource(dict(\n",
    "    x=property_id_bb2.loc['BB'].Stay_date,\n",
    "    y=property_id_bb2.loc['BB'].ADR,\n",
    "    Day=property_id_bb2.loc['BB'].Day,\n",
    "    date=[i.strftime(\"%Y-%m-%d\") for i in property_id_bb2['Stay_date']]\n",
    "    ))\n",
    "\n",
    "\n",
    "source1= ColumnDataSource(dict(\n",
    "    x=property_id_kr2.loc['KR'].Stay_date,\n",
    "    y=property_id_kr2.loc['KR'].ADR,\n",
    "    Day=property_id_kr2.loc['KR'].Day,\n",
    "    date=[i.strftime(\"%Y-%m-%d\") for i in property_id_kr2['Stay_date']]\n",
    "    ))\n",
    "\n",
    "\n",
    "source2= ColumnDataSource(dict(\n",
    "    x=property_id_ss2.loc['SS'].Stay_date,\n",
    "    y=property_id_ss2.loc['SS'].ADR,\n",
    "    Day=property_id_ss2.loc['SS'].Day,\n",
    "    date=[i.strftime(\"%Y-%m-%d\") for i in property_id_ss2['Stay_date']]\n",
    "    ))\n",
    "\n",
    "\n",
    "source3= ColumnDataSource(dict(\n",
    "    x=property_id_kk2.loc['KK'].Stay_date,\n",
    "    y=property_id_kk2.loc['KK'].ADR,\n",
    "    Day=property_id_kk2.loc['KK'].Day,\n",
    "    date=[i.strftime(\"%Y-%m-%d\") for i in property_id_kk2['Stay_date']]\n",
    "    ))\n",
    "\n",
    "\n",
    "source4= ColumnDataSource(dict(\n",
    "    x=property_id_mb2.loc['MB'].Stay_date,\n",
    "    y=property_id_mb2.loc['MB'].ADR,\n",
    "    Day=property_id_mb2.loc['MB'].Day,\n",
    "    date=[i.strftime(\"%Y-%m-%d\") for i in property_id_mb2['Stay_date']]\n",
    "    ))\n",
    "\n",
    "\n",
    "source5= ColumnDataSource(dict(\n",
    "    x=property_id_bg2.loc['BG'].Stay_date,\n",
    "    y=property_id_bg2.loc['BG'].ADR,\n",
    "    Day=property_id_bg2.loc['BG'].Day,\n",
    "    date=[i.strftime(\"%Y-%m-%d\") for i in property_id_bg2['Stay_date']]\n",
    "    ))\n",
    "\n",
    "\n",
    "source6= ColumnDataSource(dict(\n",
    "    x=property_id_ch2.loc['CH'].Stay_date,\n",
    "    y=property_id_ch2.loc['CH'].ADR,\n",
    "    Day=property_id_ch2.loc['CH'].Day,\n",
    "    date=[i.strftime(\"%Y-%m-%d\") for i in property_id_ch2['Stay_date']]\n",
    "    ))\n",
    "\n",
    "\n",
    "source7= ColumnDataSource(dict(\n",
    "    x=property_id_cl2.loc['CL'].Stay_date,\n",
    "    y=property_id_cl2.loc['CL'].ADR,\n",
    "    Day=property_id_cl2.loc['CL'].Day,\n",
    "    date=[i.strftime(\"%Y-%m-%d\") for i in property_id_cl2['Stay_date']]\n",
    "    ))\n",
    "\n",
    "\n",
    "source8= ColumnDataSource(dict(\n",
    "    x=property_id_sv2.loc['SV'].Stay_date,\n",
    "    y=property_id_sv2.loc['SV'].ADR,\n",
    "    Day=property_id_sv2.loc['SV'].Day,\n",
    "    date=[i.strftime(\"%Y-%m-%d\") for i in property_id_bb2['Stay_date']]\n",
    "    ))\n",
    "\n",
    "\n",
    "source9= ColumnDataSource(dict(\n",
    "    x=property_id_eb2.loc['EB'].Stay_date,\n",
    "    y=property_id_eb2.loc['EB'].ADR,\n",
    "    Day=property_id_eb2.loc['EB'].Day,\n",
    "    date=[i.strftime(\"%Y-%m-%d\") for i in property_id_eb2['Stay_date']]\n",
    "    ))\n",
    "\n",
    "\n",
    "source10= ColumnDataSource(dict(\n",
    "    x=property_id_vm2.loc['VM'].Stay_date,\n",
    "    y=property_id_vm2.loc['VM'].ADR,\n",
    "    Day=property_id_vm2.loc['VM'].Day,\n",
    "    date=[i.strftime(\"%Y-%m-%d\") for i in property_id_vm2['Stay_date']]\n",
    "    ))\n",
    "\n",
    "\n",
    "source11= ColumnDataSource(dict(\n",
    "    x=property_id_mm2.loc['MM'].Stay_date,\n",
    "    y=property_id_mm2.loc['MM'].ADR,\n",
    "    Day=property_id_mm2.loc['MM'].Day,\n",
    "    date=[i.strftime(\"%Y-%m-%d\") for i in property_id_mm2['Stay_date']]\n",
    "    ))\n",
    "\n",
    "\n",
    "source12= ColumnDataSource(dict(\n",
    "    x=property_id_sc2.loc['SC'].Stay_date,\n",
    "    y=property_id_sc2.loc['SC'].ADR,\n",
    "    Day=property_id_sc2.loc['SC'].Day,\n",
    "    date=[i.strftime(\"%Y-%m-%d\") for i in property_id_sc2['Stay_date']]\n",
    "    ))\n",
    "\n",
    "source13= ColumnDataSource(dict(\n",
    "    x=property_id_mp2.loc['MP'].Stay_date,\n",
    "    y=property_id_mp2.loc['MP'].ADR,\n",
    "    Day=property_id_mp2.loc['MP'].Day,\n",
    "    date=[i.strftime(\"%Y-%m-%d\") for i in property_id_mp2['Stay_date']]\n",
    "    ))\n",
    "\n",
    "source14= ColumnDataSource(dict(\n",
    "    x=property_id_vv2.loc['VV'].Stay_date,\n",
    "    y=property_id_vv2.loc['VV'].ADR,\n",
    "    Day=property_id_vv2.loc['VV'].Day,\n",
    "    date=[i.strftime(\"%Y-%m-%d\") for i in property_id_vv2['Stay_date']]\n",
    "    ))\n",
    "\n",
    "source15= ColumnDataSource(dict(\n",
    "    x=property_id_cp2.loc['CP'].Stay_date,\n",
    "    y=property_id_cp2.loc['CP'].ADR,\n",
    "    Day=property_id_cp2.loc['CP'].Day,\n",
    "    date=[i.strftime(\"%Y-%m-%d\") for i in property_id_cp2['Stay_date']]\n",
    "    ))\n",
    "\n",
    "\n",
    "\n",
    "\n",
    "\n",
    "\n",
    "\n",
    "#date=[x.strftime(\"%Y-%m-%d\") for x in test['Stay_date']]\n",
    "PLOT_OPTS=dict(\n",
    "     x_axis_type='datetime',\n",
    "   )\n",
    "\n",
    "from bokeh.models import HoverTool\n",
    "from bokeh.models import DatetimeTickFormatter\n",
    "hover= HoverTool(tooltips=[('Stay_date','@date'),('ADR','@y{1.11}'),('Day','@Day')])\n",
    "#hover= HoverTool(tooltips='@Day' )\n",
    "#hover.tooltips = [('ADR',' $x'),('Stay_date',' $Total'),('Day','@Day')]\n",
    "\n",
    "p=figure(title='Stay_date Vs ADR for property_id CP',tools=[hover], **PLOT_OPTS)\n",
    "p.left[0].formatter.use_scientific = False\n",
    "p.line(x='x', y='y',source=source,line_color = \"#d98880\",legend = \"BB\")\n",
    "p.line(x='x', y='y',source=source1,line_color = \"#f1948a\",legend = \"KR\")\n",
    "p.line(x='x', y='y',source=source2,line_color = \"#d7bde2\",legend = \"SS\")\n",
    "p.line(x='x', y='y',source=source3,line_color = \"#bb8fce\",legend = \"KK\")\n",
    "p.line(x='x', y='y',source=source4,line_color = \"#a9cce3\",legend = \"MP\")\n",
    "p.line(x='x', y='y',source=source5,line_color = \"#3498db\",legend = \"BG\")\n",
    "p.line(x='x', y='y',source=source6,line_color = \"#76d7c4\",legend = \"CH\")\n",
    "p.line(x='x', y='y',source=source7,line_color = \"#16a085\",legend = \"CL\")\n",
    "p.line(x='x', y='y',source=source8,line_color = \"#1e8449\",legend = \"SV\")\n",
    "p.line(x='x', y='y',source=source9,line_color = \"#2ecc71\",legend = \"EB\")\n",
    "p.line(x='x', y='y',source=source10,line_color = \"#f4d03f\",legend = \"VM\")\n",
    "p.line(x='x', y='y',source=source11,line_color = \"#e67e22\",legend = \"MM\")\n",
    "p.line(x='x', y='y',source=source12,line_color = \"#6e2c00\",legend = \"SC\")\n",
    "p.line(x='x', y='y',source=source13,line_color = \"#626567\",legend = \"MP\")\n",
    "p.line(x='x', y='y',source=source14,line_color = \"#ccd1d1\",legend = \"VV\")\n",
    "p.line(x='x', y='y',source=source15,line_color = \"#273746\",legend = \"CP\")\n",
    "\n",
    "show(p)"
   ]
  },
  {
   "cell_type": "code",
   "execution_count": null,
   "metadata": {
    "collapsed": true
   },
   "outputs": [],
   "source": []
  }
 ],
 "metadata": {
  "anaconda-cloud": {},
  "kernelspec": {
   "display_name": "Python 2",
   "language": "python",
   "name": "python2"
  },
  "language_info": {
   "codemirror_mode": {
    "name": "ipython",
    "version": 2
   },
   "file_extension": ".py",
   "mimetype": "text/x-python",
   "name": "python",
   "nbconvert_exporter": "python",
   "pygments_lexer": "ipython2",
   "version": "2.7.13"
  }
 },
 "nbformat": 4,
 "nbformat_minor": 1
}
