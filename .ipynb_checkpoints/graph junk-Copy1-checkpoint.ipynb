{
 "cells": [
  {
   "cell_type": "code",
   "execution_count": 4,
   "metadata": {
    "collapsed": false
   },
   "outputs": [
    {
     "name": "stderr",
     "output_type": "stream",
     "text": [
      "INFO:bokeh.core.state:Session output file 'hover.html' already exists, will be overwritten.\n"
     ]
    }
   ],
   "source": [
    "import itertools\n",
    "\n",
    "import numpy as np\n",
    "\n",
    "from bokeh.plotting import ColumnDataSource, figure, show, output_file\n",
    "from bokeh.models import HoverTool\n",
    "\n",
    "TOOLS=\"crosshair,pan,wheel_zoom,box_zoom,reset,hover,save\"\n",
    "\n",
    "xx, yy = np.meshgrid(range(0,101,4), range(0,101,4))\n",
    "x = xx.flatten()\n",
    "y = yy.flatten()\n",
    "N = len(x)\n",
    "inds = [str(i) for i in np.arange(N)]\n",
    "radii = np.random.random(size=N)*0.4 + 3.5\n",
    "colors = [\n",
    "    \"#%02x%02x%02x\" % (int(r), int(g), 150) for r, g in zip(50+2*x, 30+2*y)\n",
    "]\n",
    "\n",
    "source = ColumnDataSource(data=dict(\n",
    "    x=x,\n",
    "    y=y,\n",
    "    radius=radii,\n",
    "    colors=colors,\n",
    "    foo=list(itertools.permutations(\"abcdef\"))[:N],\n",
    "    bar=np.random.normal(size=N),\n",
    "))\n",
    "\n",
    "p = figure(title=\"Hoverful Scatter\", tools=TOOLS)\n",
    "\n",
    "p.circle(x='x', y='y', radius='radius', source=source,\n",
    "         fill_color='colors', fill_alpha=0.6, line_color=None)\n",
    "\n",
    "p.text(x, y, text=inds, alpha=0.5, text_font_size=\"5pt\",\n",
    "       text_baseline=\"middle\", text_align=\"center\")\n",
    "\n",
    "hover = p.select_one(HoverTool).tooltips = [\n",
    "    (\"index\", \"$index\"),\n",
    "    (\"(x,y)\", \"($x, $y)\"),\n",
    "    (\"radius\", \"@radius\"),\n",
    "    (\"fill color\", \"$color[hex, swatch]:colors\"),\n",
    "    (\"foo\", \"@foo\"),\n",
    "    (\"bar\", \"@bar\"),\n",
    "]\n",
    "\n",
    "output_file(\"hover.html\", title=\"hover.py example\")\n",
    "\n",
    "show(p)  # open a browser"
   ]
  },
  {
   "cell_type": "code",
   "execution_count": null,
   "metadata": {
    "collapsed": true
   },
   "outputs": [],
   "source": []
  }
 ],
 "metadata": {
  "kernelspec": {
   "display_name": "Python 2",
   "language": "python",
   "name": "python2"
  },
  "language_info": {
   "codemirror_mode": {
    "name": "ipython",
    "version": 2
   },
   "file_extension": ".py",
   "mimetype": "text/x-python",
   "name": "python",
   "nbconvert_exporter": "python",
   "pygments_lexer": "ipython2",
   "version": "2.7.13"
  }
 },
 "nbformat": 4,
 "nbformat_minor": 2
}
